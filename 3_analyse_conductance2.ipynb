{
 "cells": [
  {
   "cell_type": "code",
   "execution_count": 7,
   "metadata": {},
   "outputs": [],
   "source": [
    "import pandas as pd\n",
    "import glob\n",
    "import json\n",
    "import seaborn as sns\n",
    "import tarfile\n",
    "import numpy as np\n",
    "import shutil\n",
    "import matplotlib.pyplot as plt\n",
    "from scipy.optimize import curve_fit"
   ]
  },
  {
   "cell_type": "code",
   "execution_count": 8,
   "metadata": {},
   "outputs": [],
   "source": [
    "# decompress 'data.tar'gz'\n",
    "\n",
    "# with tarfile.open(\"data_finalized.tar.gz\", \"r:gz\") as tar:\n",
    "#     tar.extractall()\n",
    "\n",
    "paths = glob.glob('data_finalized/**/paths.json', recursive=True)\n",
    "properties = glob.glob('data_finalized/**/properties.json', recursive=True)\n",
    "\n",
    "df_paths = pd.DataFrame([json.load(open(file)) for file in paths])\n",
    "df_properties = pd.DataFrame([json.load(open(file)) for file in properties])\n",
    "\n",
    "# remove data folder\n",
    "\n",
    "# shutil.rmtree('data')"
   ]
  },
  {
   "cell_type": "code",
   "execution_count": 9,
   "metadata": {},
   "outputs": [
    {
     "name": "stdout",
     "output_type": "stream",
     "text": [
      "There are 37.7% of pairable paths with negative permanents!\n"
     ]
    }
   ],
   "source": [
    "df = pd.merge(df_paths, df_properties, on='name')\n",
    "\n",
    "df[\"path_count\"] = df[\"paths\"].apply(lambda x: len(x))\n",
    "df[\"pairablepath_count\"] = df[\"pathsdetailed\"].apply(lambda x: len([y for y in x if y[\"pairable\"]]))\n",
    "df[\"unpairablepath_count\"] = df[\"pathsdetailed\"].apply(lambda x: len([y for y in x if not y[\"pairable\"]]))\n",
    "df[\"min_permanent\"] = df[\"pathsdetailed\"].apply(lambda x: min([y[\"permanent\"] for y in x]))\n",
    "df[\"max_permanent\"] = df[\"pathsdetailed\"].apply(lambda x: max([y[\"permanent\"] for y in x]))\n",
    "\n",
    "print(f'There are {df.query(\"pairable & min_permanent < 0\").shape[0] / df.query(\"pairable\").shape[0]:.1%} of pairable paths with negative permanents!')"
   ]
  },
  {
   "cell_type": "code",
   "execution_count": 11,
   "metadata": {},
   "outputs": [
    {
     "name": "stderr",
     "output_type": "stream",
     "text": [
      "/Users/Julien/opt/anaconda3/lib/python3.9/site-packages/scipy/optimize/_minpack_py.py:906: OptimizeWarning: Covariance of the parameters could not be estimated\n",
      "  warnings.warn('Covariance of the parameters could not be estimated',\n"
     ]
    },
    {
     "data": {
      "text/plain": [
       "[Text(0.5, 0, 'Number of pairable paths'), Text(0, 0.5, 'Conductance')]"
      ]
     },
     "execution_count": 11,
     "metadata": {},
     "output_type": "execute_result"
    },
    {
     "data": {
      "image/png": "[encoded data removed]",
      "text/plain": [
       "<Figure size 500x500 with 1 Axes>"
      ]
     },
     "metadata": {},
     "output_type": "display_data"
    }
   ],
   "source": [
    "def f(x, a, b):\n",
    "    # c = 1 - a\n",
    "    # return a * np.exp(-b * x) + (1 - a)\n",
    "    return a * x**(-b)\n",
    "\n",
    "fig, ax = plt.subplots(figsize=(5, 5))\n",
    "for max_permanent in [1, 4, 16, 64]:\n",
    "    df_temp = df.query(\"max_permanent == @max_permanent & min_permanent >= 0\")\n",
    "    x = df_temp[\"pairablepath_count\"].values\n",
    "    y = df_temp[\"conductance\"].values\n",
    "    if len(df_temp) == 0:\n",
    "        continue\n",
    "    ax.scatter(x, y, label=f\"max permanent={max_permanent}\")\n",
    "    if len(df_temp) > 1:\n",
    "        popt, pcov = curve_fit(f, x, y)\n",
    "        X = np.linspace(x.min(), x.max(), 100)\n",
    "        Y = f(X, *popt)\n",
    "        # ax.plot(X, Y, label=f\"$y={popt[0]:.2f}\\\\exp(-{popt[1]:.2f}x)$\")\n",
    "    \n",
    "ax.legend(loc='lower left')\n",
    "\n",
    "ax.set_xscale('log')\n",
    "ax.set_yscale('log')\n",
    "ax.set(xlabel='Number of pairable paths', ylabel='Conductance')"
   ]
  },
  {
   "cell_type": "code",
   "execution_count": 29,
   "metadata": {},
   "outputs": [],
   "source": [
    "def adjavancy_perm(M: np.ndarray):\n",
    "    sum = 0\n",
    "    for i1 in range(M.shape[0]):\n",
    "        for j1 in range(M.shape[1]):\n",
    "            if M[i1, j1] == 0:\n",
    "                continue\n",
    "            for i2 in range(i1+1, M.shape[0]):\n",
    "                for j2 in range(j1+1, M.shape[1]):\n",
    "                    if M[i2, j2] == 0:\n",
    "                        continue\n",
    "                    sum += 1\n",
    "    return sum\n",
    "\n",
    "def perm(M, max_complexity: int) -> float:\n",
    "    n = M.shape[0]\n",
    "    complexity = n * 2**n\n",
    "    if complexity > max_complexity:\n",
    "        return -1\n",
    "    d = np.ones(n)\n",
    "    j =  0\n",
    "    s = 1\n",
    "    f = np.arange(n)\n",
    "    v = M.sum(axis=0)\n",
    "    p = np.prod(v)\n",
    "    while (j < n-1):\n",
    "        v -= 2*d[j]*M[j]\n",
    "        d[j] = -d[j]\n",
    "        s = -s\n",
    "        prod = np.prod(v)\n",
    "        p += s*prod\n",
    "        f[0] = 0\n",
    "        f[j] = f[j+1]\n",
    "        f[j+1] = j+1\n",
    "        j = f[0]\n",
    "    return p/2**(n-1)\n"
   ]
  },
  {
   "cell_type": "code",
   "execution_count": 30,
   "metadata": {},
   "outputs": [
    {
     "name": "stdout",
     "output_type": "stream",
     "text": [
      "[[1 0 1]\n",
      " [0 1 0]\n",
      " [1 0 1]]\n",
      "3\n"
     ]
    }
   ],
   "source": [
    "M = np.array([[1, 0, 1], [0, 1, 0], [1, 0, 1]])\n",
    "print(M)\n",
    "print(adjavancy_perm(M))"
   ]
  },
  {
   "cell_type": "code",
   "execution_count": 36,
   "metadata": {},
   "outputs": [],
   "source": [
    "M = np.loadtxt(\"data_finalized/junction_10234930/adjacancy.txt\")\n",
    "# perm = 64"
   ]
  },
  {
   "cell_type": "code",
   "execution_count": 37,
   "metadata": {},
   "outputs": [
    {
     "data": {
      "text/plain": [
       "0.0"
      ]
     },
     "execution_count": 37,
     "metadata": {},
     "output_type": "execute_result"
    }
   ],
   "source": [
    "perm(M, max_complexity=100000000)"
   ]
  },
  {
   "cell_type": "code",
   "execution_count": 38,
   "metadata": {},
   "outputs": [
    {
     "data": {
      "text/plain": [
       "0.0"
      ]
     },
     "execution_count": 38,
     "metadata": {},
     "output_type": "execute_result"
    }
   ],
   "source": [
    "np.linalg.det(M)"
   ]
  },
  {
   "cell_type": "code",
   "execution_count": null,
   "metadata": {},
   "outputs": [],
   "source": []
  }
 ],
 "metadata": {
  "kernelspec": {
   "display_name": "solidstatephysics",
   "language": "python",
   "name": "python3"
  },
  "language_info": {
   "codemirror_mode": {
    "name": "ipython",
    "version": 3
   },
   "file_extension": ".py",
   "mimetype": "text/x-python",
   "name": "python",
   "nbconvert_exporter": "python",
   "pygments_lexer": "ipython3",
   "version": "3.9.13"
  }
 },
 "nbformat": 4,
 "nbformat_minor": 2
}
