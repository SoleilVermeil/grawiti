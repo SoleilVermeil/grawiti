{
 "cells": [
  {
   "cell_type": "code",
   "execution_count": 77,
   "metadata": {},
   "outputs": [],
   "source": [
    "import pandas as pd\n",
    "import glob\n",
    "import json\n",
    "import seaborn as sns\n",
    "import tarfile\n",
    "import numpy as np\n",
    "import shutil\n",
    "import matplotlib.pyplot as plt\n",
    "from scipy.optimize import curve_fit"
   ]
  },
  {
   "cell_type": "code",
   "execution_count": 20,
   "metadata": {},
   "outputs": [],
   "source": [
    "# decompress 'data.tar'gz'\n",
    "\n",
    "with tarfile.open(\"data_finalized.tar.gz\", \"r:gz\") as tar:\n",
    "    tar.extractall()\n",
    "\n",
    "paths = glob.glob('data/**/paths.json', recursive=True)\n",
    "properties = glob.glob('data/**/properties.json', recursive=True)\n",
    "\n",
    "df_paths = pd.DataFrame([json.load(open(file)) for file in paths])\n",
    "df_properties = pd.DataFrame([json.load(open(file)) for file in properties])\n",
    "\n",
    "# remove data folder\n",
    "\n",
    "# shutil.rmtree('data')"
   ]
  },
  {
   "cell_type": "code",
   "execution_count": 72,
   "metadata": {},
   "outputs": [],
   "source": [
    "df = pd.merge(df_paths, df_properties, on='name')\n",
    "\n",
    "df[\"path_count\"] = df[\"paths\"].apply(lambda x: len(x))\n",
    "df[\"pairablepath_count\"] = df[\"pathsdetailed\"].apply(lambda x: len([y for y in x if y[\"pairable\"]]))\n",
    "df[\"unpairablepath_count\"] = df[\"pathsdetailed\"].apply(lambda x: len([y for y in x if not y[\"pairable\"]]))\n",
    "df[\"min_permanent\"] = df[\"pathsdetailed\"].apply(lambda x: min([y[\"permanent\"] for y in x]))\n",
    "df[\"max_permanent\"] = df[\"pathsdetailed\"].apply(lambda x: max([y[\"permanent\"] for y in x]))"
   ]
  },
  {
   "cell_type": "code",
   "execution_count": 50,
   "metadata": {},
   "outputs": [
    {
     "data": {
      "text/html": [
       "<div>\n",
       "<style scoped>\n",
       "    .dataframe tbody tr th:only-of-type {\n",
       "        vertical-align: middle;\n",
       "    }\n",
       "\n",
       "    .dataframe tbody tr th {\n",
       "        vertical-align: top;\n",
       "    }\n",
       "\n",
       "    .dataframe thead th {\n",
       "        text-align: right;\n",
       "    }\n",
       "</style>\n",
       "<table border=\"1\" class=\"dataframe\">\n",
       "  <thead>\n",
       "    <tr style=\"text-align: right;\">\n",
       "      <th></th>\n",
       "      <th>name</th>\n",
       "      <th>nodes</th>\n",
       "      <th>edges</th>\n",
       "      <th>pairable</th>\n",
       "      <th>determinant</th>\n",
       "      <th>permanent</th>\n",
       "      <th>pathsdetailed</th>\n",
       "      <th>paths</th>\n",
       "      <th>conductance</th>\n",
       "      <th>i</th>\n",
       "      <th>j</th>\n",
       "      <th>sites</th>\n",
       "      <th>path_count</th>\n",
       "      <th>pairablepath_count</th>\n",
       "      <th>unpairablepath_count</th>\n",
       "      <th>min_permanent</th>\n",
       "      <th>max_permanent</th>\n",
       "    </tr>\n",
       "  </thead>\n",
       "  <tbody>\n",
       "    <tr>\n",
       "      <th>945</th>\n",
       "      <td>junction_99025633</td>\n",
       "      <td>22</td>\n",
       "      <td>26</td>\n",
       "      <td>True</td>\n",
       "      <td>-169</td>\n",
       "      <td>-1</td>\n",
       "      <td>[{'path': [23, 9, 20, 6, 17, 3, 16, 2, 15, 1],...</td>\n",
       "      <td>[{'length': 10, 'pairable': 1, 'unpairable': 4...</td>\n",
       "      <td>0.023391</td>\n",
       "      <td>11</td>\n",
       "      <td>14</td>\n",
       "      <td>[{'index': 0, 'x': 7.5, 'y': -0.86602540378443...</td>\n",
       "      <td>6</td>\n",
       "      <td>13</td>\n",
       "      <td>19</td>\n",
       "      <td>-inf</td>\n",
       "      <td>0.0</td>\n",
       "    </tr>\n",
       "  </tbody>\n",
       "</table>\n",
       "</div>"
      ],
      "text/plain": [
       "                  name  nodes  edges  pairable  determinant  permanent  \\\n",
       "945  junction_99025633     22     26      True         -169         -1   \n",
       "\n",
       "                                         pathsdetailed  \\\n",
       "945  [{'path': [23, 9, 20, 6, 17, 3, 16, 2, 15, 1],...   \n",
       "\n",
       "                                                 paths  conductance   i   j  \\\n",
       "945  [{'length': 10, 'pairable': 1, 'unpairable': 4...     0.023391  11  14   \n",
       "\n",
       "                                                 sites  path_count  \\\n",
       "945  [{'index': 0, 'x': 7.5, 'y': -0.86602540378443...           6   \n",
       "\n",
       "     pairablepath_count  unpairablepath_count  min_permanent  max_permanent  \n",
       "945                  13                    19           -inf            0.0  "
      ]
     },
     "execution_count": 50,
     "metadata": {},
     "output_type": "execute_result"
    }
   ],
   "source": [
    "df.query(\"name == 'junction_99025633'\")"
   ]
  },
  {
   "cell_type": "code",
   "execution_count": 103,
   "metadata": {},
   "outputs": [
    {
     "data": {
      "image/png": "[encoded data removed]",
      "text/plain": [
       "<Figure size 500x500 with 1 Axes>"
      ]
     },
     "metadata": {},
     "output_type": "display_data"
    }
   ],
   "source": [
    "def f(x, a, b):\n",
    "    # c = 1 - a\n",
    "    # return a * np.exp(-b * x) + (1 - a)\n",
    "    return a * x**(-b)\n",
    "\n",
    "fig, ax = plt.subplots(figsize=(5, 5))\n",
    "for max_permanent in [1, 4, 16, 64]:\n",
    "    df_temp = df.query(\"max_permanent == @max_permanent\")\n",
    "    x = df_temp[\"pairablepath_count\"].values\n",
    "    y = df_temp[\"conductance\"].values\n",
    "    ax.scatter(x, y, label=f\"max permanent={max_permanent}\")\n",
    "    popt, pcov = curve_fit(f, x, y)\n",
    "    X = np.linspace(x.min(), x.max(), 100)\n",
    "    Y = f(X, *popt)\n",
    "    ax.plot(X, Y, label=f\"$y={popt[0]:.2f}\\\\exp(-{popt[1]:.2f}x)$\")\n",
    "    \n",
    "ax.legend(loc='lower right')\n",
    "\n",
    "ax.set_xscale('log')\n",
    "ax.set_yscale('log')"
   ]
  },
  {
   "cell_type": "code",
   "execution_count": 64,
   "metadata": {},
   "outputs": [
    {
     "data": {
      "text/plain": [
       "matplotlib.axes._axes.Axes"
      ]
     },
     "execution_count": 64,
     "metadata": {},
     "output_type": "execute_result"
    }
   ],
   "source": [
    "type(data)"
   ]
  },
  {
   "cell_type": "code",
   "execution_count": 70,
   "metadata": {},
   "outputs": [
    {
     "data": {
      "text/plain": [
       "array([], dtype=int64)"
      ]
     },
     "execution_count": 70,
     "metadata": {},
     "output_type": "execute_result"
    }
   ],
   "source": [
    "x"
   ]
  },
  {
   "cell_type": "code",
   "execution_count": null,
   "metadata": {},
   "outputs": [],
   "source": []
  }
 ],
 "metadata": {
  "kernelspec": {
   "display_name": "solidstatephysics",
   "language": "python",
   "name": "python3"
  },
  "language_info": {
   "codemirror_mode": {
    "name": "ipython",
    "version": 3
   },
   "file_extension": ".py",
   "mimetype": "text/x-python",
   "name": "python",
   "nbconvert_exporter": "python",
   "pygments_lexer": "ipython3",
   "version": "3.11.6"
  }
 },
 "nbformat": 4,
 "nbformat_minor": 2
}
